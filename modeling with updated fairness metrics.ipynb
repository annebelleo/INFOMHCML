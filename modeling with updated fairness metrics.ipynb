{
 "cells": [
  {
   "cell_type": "code",
   "execution_count": 1,
   "source": [
    "# import libraries used throughout the notebook\n",
    "import pandas as pd\n",
    "import numpy as np\n",
    "import matplotlib.pyplot as plt\n",
    "import seaborn as sns\n",
    "# import statsmodels.api as sm\n",
    "import sklearn\n",
    "import math\n",
    "from sklearn import metrics, ensemble\n",
    "from sklearn.svm import SVR, SVC\n",
    "from sklearn.model_selection import train_test_split\n",
    "from sklearn.model_selection import GridSearchCV\n",
    "from sklearn.preprocessing import StandardScaler, OneHotEncoder\n",
    "from sklearn.metrics import make_scorer, mean_squared_error"
   ],
   "outputs": [],
   "metadata": {}
  },
  {
   "cell_type": "code",
   "execution_count": 2,
   "source": [
    "#check version\n",
    "sklearn.__version__"
   ],
   "outputs": [
    {
     "output_type": "execute_result",
     "data": {
      "text/plain": [
       "'1.2.2'"
      ]
     },
     "metadata": {},
     "execution_count": 2
    }
   ],
   "metadata": {}
  },
  {
   "cell_type": "markdown",
   "source": [
    "The dataset we use is from the paper <a href=\"https://www.researchgate.net/publication/228780408_Using_data_mining_to_predict_secondary_school_student_performance\">Using data mining to predict secondary school student performance</a> by Paulo Cortez and Alice Silva."
   ],
   "metadata": {}
  },
  {
   "cell_type": "markdown",
   "source": [
    "The following blocks use the Portugese dataset."
   ],
   "metadata": {}
  },
  {
   "cell_type": "code",
   "execution_count": 3,
   "source": [
    "\"\"\"data = pd.read_csv('data/student-por.csv', delimiter=';')\n",
    "# heatmap requires numerical values\n",
    "data = data.replace(to_replace=['M', 'F'], value=[0,1]) #sex\n",
    "data = data.replace(to_replace=['GP', 'MS'], value=[0,1]) #school\n",
    "data = data.replace(to_replace=['A', 'T'], value=[0,1]) #Pstatus\n",
    "data = data.replace(to_replace=['GT3', 'LE3'], value=[0,1]) #famsize\n",
    "data = data.replace(to_replace=['U', 'R'], value=[0,1]) #address\n",
    "data = data.replace(to_replace=['father', 'mother'], value=[0,1]) #guardian\n",
    "data = data.replace(to_replace=['at_home', 'health', 'other', 'services', 'teacher'], value=[0,1,2,3,4]) #Mjob, Fjob\n",
    "data = data.replace(to_replace=['course', 'other', 'home', 'reputation'], value=[0,1,2,3]) #reason\n",
    "data = data.replace(to_replace=['no', 'yes'], value=[0,1]) #fatherd, nursery, higher, famsup, romantic\n",
    "data.head()\n",
    "\"\"\""
   ],
   "outputs": [
    {
     "output_type": "execute_result",
     "data": {
      "text/plain": [
       "\"data = pd.read_csv('data/student-por.csv', delimiter=';')\\n# heatmap requires numerical values\\ndata = data.replace(to_replace=['M', 'F'], value=[0,1]) #sex\\ndata = data.replace(to_replace=['GP', 'MS'], value=[0,1]) #school\\ndata = data.replace(to_replace=['A', 'T'], value=[0,1]) #Pstatus\\ndata = data.replace(to_replace=['GT3', 'LE3'], value=[0,1]) #famsize\\ndata = data.replace(to_replace=['U', 'R'], value=[0,1]) #address\\ndata = data.replace(to_replace=['father', 'mother'], value=[0,1]) #guardian\\ndata = data.replace(to_replace=['at_home', 'health', 'other', 'services', 'teacher'], value=[0,1,2,3,4]) #Mjob, Fjob\\ndata = data.replace(to_replace=['course', 'other', 'home', 'reputation'], value=[0,1,2,3]) #reason\\ndata = data.replace(to_replace=['no', 'yes'], value=[0,1]) #fatherd, nursery, higher, famsup, romantic\\ndata.head()\\n\""
      ]
     },
     "metadata": {},
     "execution_count": 3
    }
   ],
   "metadata": {}
  },
  {
   "cell_type": "markdown",
   "source": [
    "## Data preprocessing"
   ],
   "metadata": {}
  },
  {
   "cell_type": "code",
   "execution_count": 4,
   "source": [
    "# Read and display dataset\n",
    "data = pd.read_csv('data/student-por.csv', sep = ';')\n",
    "\n",
    "print(data.shape)\n",
    "print(data.columns) # note: fatherd = paid\n",
    "display(data.head())"
   ],
   "outputs": [
    {
     "output_type": "stream",
     "name": "stdout",
     "text": [
      "(649, 33)\n",
      "Index(['school', 'sex', 'age', 'address', 'famsize', 'Pstatus', 'Medu', 'Fedu',\n",
      "       'Mjob', 'Fjob', 'reason', 'guardian', 'traveltime', 'studytime',\n",
      "       'failures', 'schoolsup', 'famsup', 'paid', 'activities', 'nursery',\n",
      "       'higher', 'internet', 'romantic', 'famrel', 'freetime', 'goout', 'Dalc',\n",
      "       'Walc', 'health', 'absences', 'G1', 'G2', 'G3'],\n",
      "      dtype='object')\n"
     ]
    },
    {
     "output_type": "display_data",
     "data": {
      "text/html": [
       "<div>\n",
       "<style scoped>\n",
       "    .dataframe tbody tr th:only-of-type {\n",
       "        vertical-align: middle;\n",
       "    }\n",
       "\n",
       "    .dataframe tbody tr th {\n",
       "        vertical-align: top;\n",
       "    }\n",
       "\n",
       "    .dataframe thead th {\n",
       "        text-align: right;\n",
       "    }\n",
       "</style>\n",
       "<table border=\"1\" class=\"dataframe\">\n",
       "  <thead>\n",
       "    <tr style=\"text-align: right;\">\n",
       "      <th></th>\n",
       "      <th>school</th>\n",
       "      <th>sex</th>\n",
       "      <th>age</th>\n",
       "      <th>address</th>\n",
       "      <th>famsize</th>\n",
       "      <th>Pstatus</th>\n",
       "      <th>Medu</th>\n",
       "      <th>Fedu</th>\n",
       "      <th>Mjob</th>\n",
       "      <th>Fjob</th>\n",
       "      <th>...</th>\n",
       "      <th>famrel</th>\n",
       "      <th>freetime</th>\n",
       "      <th>goout</th>\n",
       "      <th>Dalc</th>\n",
       "      <th>Walc</th>\n",
       "      <th>health</th>\n",
       "      <th>absences</th>\n",
       "      <th>G1</th>\n",
       "      <th>G2</th>\n",
       "      <th>G3</th>\n",
       "    </tr>\n",
       "  </thead>\n",
       "  <tbody>\n",
       "    <tr>\n",
       "      <th>0</th>\n",
       "      <td>GP</td>\n",
       "      <td>F</td>\n",
       "      <td>18</td>\n",
       "      <td>U</td>\n",
       "      <td>GT3</td>\n",
       "      <td>A</td>\n",
       "      <td>4</td>\n",
       "      <td>4</td>\n",
       "      <td>at_home</td>\n",
       "      <td>teacher</td>\n",
       "      <td>...</td>\n",
       "      <td>4</td>\n",
       "      <td>3</td>\n",
       "      <td>4</td>\n",
       "      <td>1</td>\n",
       "      <td>1</td>\n",
       "      <td>3</td>\n",
       "      <td>4</td>\n",
       "      <td>0</td>\n",
       "      <td>11</td>\n",
       "      <td>11</td>\n",
       "    </tr>\n",
       "    <tr>\n",
       "      <th>1</th>\n",
       "      <td>GP</td>\n",
       "      <td>F</td>\n",
       "      <td>17</td>\n",
       "      <td>U</td>\n",
       "      <td>GT3</td>\n",
       "      <td>T</td>\n",
       "      <td>1</td>\n",
       "      <td>1</td>\n",
       "      <td>at_home</td>\n",
       "      <td>other</td>\n",
       "      <td>...</td>\n",
       "      <td>5</td>\n",
       "      <td>3</td>\n",
       "      <td>3</td>\n",
       "      <td>1</td>\n",
       "      <td>1</td>\n",
       "      <td>3</td>\n",
       "      <td>2</td>\n",
       "      <td>9</td>\n",
       "      <td>11</td>\n",
       "      <td>11</td>\n",
       "    </tr>\n",
       "    <tr>\n",
       "      <th>2</th>\n",
       "      <td>GP</td>\n",
       "      <td>F</td>\n",
       "      <td>15</td>\n",
       "      <td>U</td>\n",
       "      <td>LE3</td>\n",
       "      <td>T</td>\n",
       "      <td>1</td>\n",
       "      <td>1</td>\n",
       "      <td>at_home</td>\n",
       "      <td>other</td>\n",
       "      <td>...</td>\n",
       "      <td>4</td>\n",
       "      <td>3</td>\n",
       "      <td>2</td>\n",
       "      <td>2</td>\n",
       "      <td>3</td>\n",
       "      <td>3</td>\n",
       "      <td>6</td>\n",
       "      <td>12</td>\n",
       "      <td>13</td>\n",
       "      <td>12</td>\n",
       "    </tr>\n",
       "    <tr>\n",
       "      <th>3</th>\n",
       "      <td>GP</td>\n",
       "      <td>F</td>\n",
       "      <td>15</td>\n",
       "      <td>U</td>\n",
       "      <td>GT3</td>\n",
       "      <td>T</td>\n",
       "      <td>4</td>\n",
       "      <td>2</td>\n",
       "      <td>health</td>\n",
       "      <td>services</td>\n",
       "      <td>...</td>\n",
       "      <td>3</td>\n",
       "      <td>2</td>\n",
       "      <td>2</td>\n",
       "      <td>1</td>\n",
       "      <td>1</td>\n",
       "      <td>5</td>\n",
       "      <td>0</td>\n",
       "      <td>14</td>\n",
       "      <td>14</td>\n",
       "      <td>14</td>\n",
       "    </tr>\n",
       "    <tr>\n",
       "      <th>4</th>\n",
       "      <td>GP</td>\n",
       "      <td>F</td>\n",
       "      <td>16</td>\n",
       "      <td>U</td>\n",
       "      <td>GT3</td>\n",
       "      <td>T</td>\n",
       "      <td>3</td>\n",
       "      <td>3</td>\n",
       "      <td>other</td>\n",
       "      <td>other</td>\n",
       "      <td>...</td>\n",
       "      <td>4</td>\n",
       "      <td>3</td>\n",
       "      <td>2</td>\n",
       "      <td>1</td>\n",
       "      <td>2</td>\n",
       "      <td>5</td>\n",
       "      <td>0</td>\n",
       "      <td>11</td>\n",
       "      <td>13</td>\n",
       "      <td>13</td>\n",
       "    </tr>\n",
       "  </tbody>\n",
       "</table>\n",
       "<p>5 rows × 33 columns</p>\n",
       "</div>"
      ],
      "text/plain": [
       "  school sex  age address famsize Pstatus  Medu  Fedu     Mjob      Fjob  ...  \\\n",
       "0     GP   F   18       U     GT3       A     4     4  at_home   teacher  ...   \n",
       "1     GP   F   17       U     GT3       T     1     1  at_home     other  ...   \n",
       "2     GP   F   15       U     LE3       T     1     1  at_home     other  ...   \n",
       "3     GP   F   15       U     GT3       T     4     2   health  services  ...   \n",
       "4     GP   F   16       U     GT3       T     3     3    other     other  ...   \n",
       "\n",
       "  famrel freetime  goout  Dalc  Walc health absences  G1  G2  G3  \n",
       "0      4        3      4     1     1      3        4   0  11  11  \n",
       "1      5        3      3     1     1      3        2   9  11  11  \n",
       "2      4        3      2     2     3      3        6  12  13  12  \n",
       "3      3        2      2     1     1      5        0  14  14  14  \n",
       "4      4        3      2     1     2      5        0  11  13  13  \n",
       "\n",
       "[5 rows x 33 columns]"
      ]
     },
     "metadata": {}
    }
   ],
   "metadata": {}
  },
  {
   "cell_type": "code",
   "execution_count": 6,
   "source": [
    "# Preprocess the data\n",
    "\n",
    "features = ['school', 'sex', 'age', 'address', 'famsize', 'Pstatus', 'Medu', 'Fedu',\n",
    "            'Mjob', 'Fjob', 'reason', 'guardian', 'traveltime', 'studytime', 'failures',\n",
    "            'schoolsup', 'famsup', 'fatherd', 'activities', 'nursery', 'higher', 'internet',\n",
    "            'romantic', 'famrel', 'freetime', 'goout', 'Dalc', 'Walc', 'health', 'absences']\n",
    "numeric_features = ['age', 'Medu', 'Fedu', 'traveltime', 'studytime', 'failures', 'famrel', 'freetime', 'goout', 'Dalc', 'Walc', 'health', 'absences']\n",
    "categorical_features = ['school', 'sex', 'address', 'famsize', 'Pstatus', 'Mjob', 'Fjob', 'reason', 'guardian', \n",
    "                        'schoolsup', 'famsup', 'fatherd', 'activities', 'nursery', 'higher', 'internet', 'romantic']\n",
    "target = 'G3'\n",
    "\n",
    "\n",
    "# Onehot encoding for categorical variables\n",
    "encoder = OneHotEncoder(sparse_output=False, drop='first')  # drop the first category (reference)\n",
    "encoded_categorical_data = encoder.fit_transform(data[categorical_features])\n",
    "\n",
    "# DataFrame with one hot encoded features\n",
    "encoded_categorical_df = pd.DataFrame(encoded_categorical_data, columns=encoder.get_feature_names_out(categorical_features))\n",
    "\n",
    "# Drop original categorical columns and replace with one hot encoded columns\n",
    "encoded_df = data.drop(categorical_features, axis=1).reset_index(drop=True)\n",
    "encoded_df = pd.concat([encoded_df, encoded_categorical_df], axis=1) \n",
    "\n",
    "# Standardize numerical features\n",
    "scaler = StandardScaler()\n",
    "standardized_data = scaler.fit_transform(encoded_df[numeric_features]) # standardize\n",
    "\n",
    "# DataFrame with standardized features\n",
    "standardized_numeric_df = pd.DataFrame(standardized_data, columns=scaler.get_feature_names_out(numeric_features))\n",
    "\n",
    "# Drop original numeric columns and concatenate standardized columns\n",
    "encoded_df_cat = encoded_df.drop(numeric_features, axis=1).reset_index(drop=True)\n",
    "preprocessed_df = pd.concat([standardized_numeric_df, encoded_df_cat], axis=1) \n",
    "\n",
    "# Save preprocessed df in data folder\n",
    "preprocessed_df.to_csv('data/preprocessed_student_por.csv', index=False)"
   ],
   "outputs": [],
   "metadata": {}
  },
  {
   "cell_type": "markdown",
   "source": [
    "## Train Model predicting Final Grade (Student performance)"
   ],
   "metadata": {}
  },
  {
   "cell_type": "code",
   "execution_count": 7,
   "source": [
    "# Read preprocessed data\n",
    "preprocessed_df = pd.read_csv('data/preprocessed_student_por.csv')\n",
    "\n",
    "print(preprocessed_df.columns)\n",
    "display(preprocessed_df.head())"
   ],
   "outputs": [
    {
     "output_type": "stream",
     "name": "stdout",
     "text": [
      "Index(['age', 'Medu', 'Fedu', 'traveltime', 'studytime', 'failures', 'famrel',\n",
      "       'freetime', 'goout', 'Dalc', 'Walc', 'health', 'absences', 'G1', 'G2',\n",
      "       'G3', 'school_MS', 'sex_M', 'address_U', 'famsize_LE3', 'Pstatus_T',\n",
      "       'Mjob_health', 'Mjob_other', 'Mjob_services', 'Mjob_teacher',\n",
      "       'Fjob_health', 'Fjob_other', 'Fjob_services', 'Fjob_teacher',\n",
      "       'reason_home', 'reason_other', 'reason_reputation', 'guardian_mother',\n",
      "       'guardian_other', 'schoolsup_yes', 'famsup_yes', 'paid_yes',\n",
      "       'activities_yes', 'nursery_yes', 'higher_yes', 'internet_yes',\n",
      "       'romantic_yes'],\n",
      "      dtype='object')\n"
     ]
    },
    {
     "output_type": "display_data",
     "data": {
      "text/html": [
       "<div>\n",
       "<style scoped>\n",
       "    .dataframe tbody tr th:only-of-type {\n",
       "        vertical-align: middle;\n",
       "    }\n",
       "\n",
       "    .dataframe tbody tr th {\n",
       "        vertical-align: top;\n",
       "    }\n",
       "\n",
       "    .dataframe thead th {\n",
       "        text-align: right;\n",
       "    }\n",
       "</style>\n",
       "<table border=\"1\" class=\"dataframe\">\n",
       "  <thead>\n",
       "    <tr style=\"text-align: right;\">\n",
       "      <th></th>\n",
       "      <th>age</th>\n",
       "      <th>Medu</th>\n",
       "      <th>Fedu</th>\n",
       "      <th>traveltime</th>\n",
       "      <th>studytime</th>\n",
       "      <th>failures</th>\n",
       "      <th>famrel</th>\n",
       "      <th>freetime</th>\n",
       "      <th>goout</th>\n",
       "      <th>Dalc</th>\n",
       "      <th>...</th>\n",
       "      <th>guardian_mother</th>\n",
       "      <th>guardian_other</th>\n",
       "      <th>schoolsup_yes</th>\n",
       "      <th>famsup_yes</th>\n",
       "      <th>paid_yes</th>\n",
       "      <th>activities_yes</th>\n",
       "      <th>nursery_yes</th>\n",
       "      <th>higher_yes</th>\n",
       "      <th>internet_yes</th>\n",
       "      <th>romantic_yes</th>\n",
       "    </tr>\n",
       "  </thead>\n",
       "  <tbody>\n",
       "    <tr>\n",
       "      <th>0</th>\n",
       "      <td>1.031695</td>\n",
       "      <td>1.310216</td>\n",
       "      <td>1.540715</td>\n",
       "      <td>0.576718</td>\n",
       "      <td>0.083653</td>\n",
       "      <td>-0.374305</td>\n",
       "      <td>0.072606</td>\n",
       "      <td>-0.171647</td>\n",
       "      <td>0.693785</td>\n",
       "      <td>-0.543555</td>\n",
       "      <td>...</td>\n",
       "      <td>1.0</td>\n",
       "      <td>0.0</td>\n",
       "      <td>1.0</td>\n",
       "      <td>0.0</td>\n",
       "      <td>0.0</td>\n",
       "      <td>0.0</td>\n",
       "      <td>1.0</td>\n",
       "      <td>1.0</td>\n",
       "      <td>0.0</td>\n",
       "      <td>0.0</td>\n",
       "    </tr>\n",
       "    <tr>\n",
       "      <th>1</th>\n",
       "      <td>0.210137</td>\n",
       "      <td>-1.336039</td>\n",
       "      <td>-1.188832</td>\n",
       "      <td>-0.760032</td>\n",
       "      <td>0.083653</td>\n",
       "      <td>-0.374305</td>\n",
       "      <td>1.119748</td>\n",
       "      <td>-0.171647</td>\n",
       "      <td>-0.157380</td>\n",
       "      <td>-0.543555</td>\n",
       "      <td>...</td>\n",
       "      <td>0.0</td>\n",
       "      <td>0.0</td>\n",
       "      <td>0.0</td>\n",
       "      <td>1.0</td>\n",
       "      <td>0.0</td>\n",
       "      <td>0.0</td>\n",
       "      <td>0.0</td>\n",
       "      <td>1.0</td>\n",
       "      <td>1.0</td>\n",
       "      <td>0.0</td>\n",
       "    </tr>\n",
       "    <tr>\n",
       "      <th>2</th>\n",
       "      <td>-1.432980</td>\n",
       "      <td>-1.336039</td>\n",
       "      <td>-1.188832</td>\n",
       "      <td>-0.760032</td>\n",
       "      <td>0.083653</td>\n",
       "      <td>-0.374305</td>\n",
       "      <td>0.072606</td>\n",
       "      <td>-0.171647</td>\n",
       "      <td>-1.008546</td>\n",
       "      <td>0.538553</td>\n",
       "      <td>...</td>\n",
       "      <td>1.0</td>\n",
       "      <td>0.0</td>\n",
       "      <td>1.0</td>\n",
       "      <td>0.0</td>\n",
       "      <td>0.0</td>\n",
       "      <td>0.0</td>\n",
       "      <td>1.0</td>\n",
       "      <td>1.0</td>\n",
       "      <td>1.0</td>\n",
       "      <td>0.0</td>\n",
       "    </tr>\n",
       "    <tr>\n",
       "      <th>3</th>\n",
       "      <td>-1.432980</td>\n",
       "      <td>1.310216</td>\n",
       "      <td>-0.278983</td>\n",
       "      <td>-0.760032</td>\n",
       "      <td>1.290114</td>\n",
       "      <td>-0.374305</td>\n",
       "      <td>-0.974536</td>\n",
       "      <td>-1.123771</td>\n",
       "      <td>-1.008546</td>\n",
       "      <td>-0.543555</td>\n",
       "      <td>...</td>\n",
       "      <td>1.0</td>\n",
       "      <td>0.0</td>\n",
       "      <td>0.0</td>\n",
       "      <td>1.0</td>\n",
       "      <td>0.0</td>\n",
       "      <td>1.0</td>\n",
       "      <td>1.0</td>\n",
       "      <td>1.0</td>\n",
       "      <td>1.0</td>\n",
       "      <td>1.0</td>\n",
       "    </tr>\n",
       "    <tr>\n",
       "      <th>4</th>\n",
       "      <td>-0.611422</td>\n",
       "      <td>0.428131</td>\n",
       "      <td>0.630866</td>\n",
       "      <td>-0.760032</td>\n",
       "      <td>0.083653</td>\n",
       "      <td>-0.374305</td>\n",
       "      <td>0.072606</td>\n",
       "      <td>-0.171647</td>\n",
       "      <td>-1.008546</td>\n",
       "      <td>-0.543555</td>\n",
       "      <td>...</td>\n",
       "      <td>0.0</td>\n",
       "      <td>0.0</td>\n",
       "      <td>0.0</td>\n",
       "      <td>1.0</td>\n",
       "      <td>0.0</td>\n",
       "      <td>0.0</td>\n",
       "      <td>1.0</td>\n",
       "      <td>1.0</td>\n",
       "      <td>0.0</td>\n",
       "      <td>0.0</td>\n",
       "    </tr>\n",
       "  </tbody>\n",
       "</table>\n",
       "<p>5 rows × 42 columns</p>\n",
       "</div>"
      ],
      "text/plain": [
       "        age      Medu      Fedu  traveltime  studytime  failures    famrel  \\\n",
       "0  1.031695  1.310216  1.540715    0.576718   0.083653 -0.374305  0.072606   \n",
       "1  0.210137 -1.336039 -1.188832   -0.760032   0.083653 -0.374305  1.119748   \n",
       "2 -1.432980 -1.336039 -1.188832   -0.760032   0.083653 -0.374305  0.072606   \n",
       "3 -1.432980  1.310216 -0.278983   -0.760032   1.290114 -0.374305 -0.974536   \n",
       "4 -0.611422  0.428131  0.630866   -0.760032   0.083653 -0.374305  0.072606   \n",
       "\n",
       "   freetime     goout      Dalc  ...  guardian_mother  guardian_other  \\\n",
       "0 -0.171647  0.693785 -0.543555  ...              1.0             0.0   \n",
       "1 -0.171647 -0.157380 -0.543555  ...              0.0             0.0   \n",
       "2 -0.171647 -1.008546  0.538553  ...              1.0             0.0   \n",
       "3 -1.123771 -1.008546 -0.543555  ...              1.0             0.0   \n",
       "4 -0.171647 -1.008546 -0.543555  ...              0.0             0.0   \n",
       "\n",
       "   schoolsup_yes  famsup_yes  paid_yes  activities_yes  nursery_yes  \\\n",
       "0            1.0         0.0       0.0             0.0          1.0   \n",
       "1            0.0         1.0       0.0             0.0          0.0   \n",
       "2            1.0         0.0       0.0             0.0          1.0   \n",
       "3            0.0         1.0       0.0             1.0          1.0   \n",
       "4            0.0         1.0       0.0             0.0          1.0   \n",
       "\n",
       "   higher_yes  internet_yes  romantic_yes  \n",
       "0         1.0           0.0           0.0  \n",
       "1         1.0           1.0           0.0  \n",
       "2         1.0           1.0           0.0  \n",
       "3         1.0           1.0           1.0  \n",
       "4         1.0           0.0           0.0  \n",
       "\n",
       "[5 rows x 42 columns]"
      ]
     },
     "metadata": {}
    }
   ],
   "metadata": {}
  },
  {
   "cell_type": "markdown",
   "source": [
    "## Baseline SVR model - Predicting G3 with All features"
   ],
   "metadata": {}
  },
  {
   "cell_type": "code",
   "execution_count": 8,
   "source": [
    "# Specify features and target\n",
    "target = 'G3' # Final grade (range 0-20)\n",
    "X = preprocessed_df.drop(columns=[target])\n",
    "y  = preprocessed_df[target]\n",
    "\n",
    "# Split the data into training and test sets\n",
    "X_train, X_test, y_train, y_test = train_test_split(X, y, test_size=0.2, random_state = 0) # set random state for reproducibility\n",
    "\n",
    "\n",
    "\n",
    "# Baseline SVR Model \n",
    "svr_base_model = SVR().fit(X_train, y_train)\n",
    "y_pred = svr_base_model.predict(X_test)\n",
    "\n",
    "# Calculate RMSE\n",
    "rmse = mean_squared_error(y_test, y_pred, squared=False)\n",
    "print(f'RMSE: {rmse}')  "
   ],
   "outputs": [
    {
     "output_type": "stream",
     "name": "stdout",
     "text": [
      "RMSE: 1.0099353868580783\n"
     ]
    }
   ],
   "metadata": {}
  },
  {
   "cell_type": "markdown",
   "source": [
    "The default SVR model achieves good performance on the test set."
   ],
   "metadata": {}
  },
  {
   "cell_type": "markdown",
   "source": [
    "## Hyperparameter tuning"
   ],
   "metadata": {}
  },
  {
   "cell_type": "code",
   "execution_count": 9,
   "source": [
    "# Note: started with paramter values in Cortez paper C = [0,2,4,6,8] and gamma = [2**i for i in range(-9, 0, 2)]\n",
    "# We did not find the same performance results hence we tried different parameters. Final parameters: C=18, gamma = 'scale', epsilon = 0.5\n",
    "   \n",
    "\n",
    "# Define the parameter grid for grid search (default kernel)\n",
    "param_grid = {\n",
    "    'C': [17, 18], \n",
    "    'gamma': ['scale'],   \n",
    "    'epsilon': [0.45, 0.5]           \n",
    "}\n",
    "\n",
    "# RMSE performance measure \n",
    "rmse_scorer = make_scorer(mean_squared_error, squared=False)\n",
    "\n",
    "# Number of runs for cross-validation\n",
    "num_runs = 20 \n",
    "\n",
    "for run in range(num_runs):   \n",
    "    # Split the data with a different random state\n",
    "    X_train, X_test, y_train, y_test = train_test_split(X, y, test_size=0.2, random_state=run)\n",
    "\n",
    "    # Initialize and fit search with cv = 10\n",
    "    svm_grid = GridSearchCV(SVR(), param_grid, cv=10, scoring=rmse_scorer)\n",
    "    svm_grid.fit(X_train, y_train)\n",
    "\n",
    "    # Print best hyperparameters and RMSE\n",
    "    print(f'Best parameters: {svm_grid.best_params_}')\n",
    "    print(f'RMSE: {svm_grid.best_score_}')\n"
   ],
   "outputs": [
    {
     "output_type": "stream",
     "name": "stdout",
     "text": [
      "Best parameters: {'C': 18, 'epsilon': 0.5, 'gamma': 'scale'}\n",
      "RMSE: 1.3245750287372693\n",
      "Best parameters: {'C': 18, 'epsilon': 0.5, 'gamma': 'scale'}\n",
      "RMSE: 1.1698813418161753\n",
      "Best parameters: {'C': 18, 'epsilon': 0.5, 'gamma': 'scale'}\n",
      "RMSE: 1.0647184007758037\n",
      "Best parameters: {'C': 18, 'epsilon': 0.45, 'gamma': 'scale'}\n",
      "RMSE: 1.2802323446988626\n",
      "Best parameters: {'C': 18, 'epsilon': 0.5, 'gamma': 'scale'}\n",
      "RMSE: 1.212818692585972\n",
      "Best parameters: {'C': 18, 'epsilon': 0.5, 'gamma': 'scale'}\n",
      "RMSE: 1.2548900509752148\n",
      "Best parameters: {'C': 18, 'epsilon': 0.45, 'gamma': 'scale'}\n",
      "RMSE: 1.2666471988547465\n",
      "Best parameters: {'C': 18, 'epsilon': 0.5, 'gamma': 'scale'}\n",
      "RMSE: 1.300549411683956\n",
      "Best parameters: {'C': 18, 'epsilon': 0.5, 'gamma': 'scale'}\n",
      "RMSE: 1.1773846892406112\n",
      "Best parameters: {'C': 18, 'epsilon': 0.45, 'gamma': 'scale'}\n",
      "RMSE: 1.2586950541709048\n",
      "Best parameters: {'C': 18, 'epsilon': 0.5, 'gamma': 'scale'}\n",
      "RMSE: 1.1341318696375375\n",
      "Best parameters: {'C': 18, 'epsilon': 0.5, 'gamma': 'scale'}\n",
      "RMSE: 1.1670271311939673\n",
      "Best parameters: {'C': 18, 'epsilon': 0.45, 'gamma': 'scale'}\n",
      "RMSE: 1.2404240480233841\n",
      "Best parameters: {'C': 17, 'epsilon': 0.45, 'gamma': 'scale'}\n",
      "RMSE: 1.2489495253079155\n",
      "Best parameters: {'C': 17, 'epsilon': 0.5, 'gamma': 'scale'}\n",
      "RMSE: 1.0797620902338327\n",
      "Best parameters: {'C': 18, 'epsilon': 0.5, 'gamma': 'scale'}\n",
      "RMSE: 1.1226332149521934\n",
      "Best parameters: {'C': 18, 'epsilon': 0.5, 'gamma': 'scale'}\n",
      "RMSE: 1.2773628264701966\n",
      "Best parameters: {'C': 18, 'epsilon': 0.5, 'gamma': 'scale'}\n",
      "RMSE: 1.2737657307089443\n",
      "Best parameters: {'C': 18, 'epsilon': 0.45, 'gamma': 'scale'}\n",
      "RMSE: 1.094323442897227\n",
      "Best parameters: {'C': 17, 'epsilon': 0.45, 'gamma': 'scale'}\n",
      "RMSE: 1.2127479303472817\n"
     ]
    }
   ],
   "metadata": {}
  },
  {
   "cell_type": "markdown",
   "source": [
    "## Finetuned SVR Model - Predicting G3 with all features"
   ],
   "metadata": {}
  },
  {
   "cell_type": "code",
   "execution_count": 10,
   "source": [
    "# Specify features and target\n",
    "target = 'G3' # Final grade (range 0-20)\n",
    "X = preprocessed_df.drop(columns=[target])\n",
    "y  = preprocessed_df[target]\n",
    "\n",
    "# Split the data into training and test sets\n",
    "X_train, X_test, y_train, y_test = train_test_split(X, y, test_size=0.2, random_state = 0) # set random state for reproducibility\n",
    "\n",
    "\n",
    "# Finetuned SVR Model \n",
    "svr_final_model = SVR(C=18, gamma = 'scale', epsilon = 0.5).fit(X_train, y_train)\n",
    "y_pred = svr_final_model.predict(X_test)\n",
    "\n",
    "# Calculate RMSE\n",
    "rmse = mean_squared_error(y_test, y_pred, squared=False)\n",
    "print(f'RMSE: {rmse}')  "
   ],
   "outputs": [
    {
     "output_type": "stream",
     "name": "stdout",
     "text": [
      "RMSE: 0.916894593331189\n"
     ]
    }
   ],
   "metadata": {}
  },
  {
   "cell_type": "markdown",
   "source": [
    "The baseline SVR model achieved an RMSE = 1.01, the finetuned model performs slightly better achieving an RSME = 0.92. "
   ],
   "metadata": {}
  },
  {
   "cell_type": "markdown",
   "source": [
    " ## Train an interpretable model -- Predicting G3 with all features "
   ],
   "metadata": {}
  },
  {
   "cell_type": "code",
   "execution_count": 11,
   "source": [
    "from interpret import show\n",
    "from interpret.data import Marginal\n",
    "from interpret.glassbox import ExplainableBoostingRegressor\n",
    "from interpret.perf import RegressionPerf"
   ],
   "outputs": [],
   "metadata": {}
  },
  {
   "cell_type": "code",
   "execution_count": 12,
   "source": [
    "# Specify features and target\n",
    "target = 'G3' # Final grade (range 0-20)\n",
    "X = preprocessed_df.drop(columns=[target])\n",
    "y  = preprocessed_df[target]\n",
    "\n",
    "# Split the data into training and test sets\n",
    "X_train, X_test, y_train, y_test = train_test_split(X, y, test_size=0.2, random_state = 0) # set random state for reproducibility\n",
    "\n",
    "\n",
    "# Train the EBM model\n",
    "ebm = ExplainableBoostingRegressor(random_state = 0)\n",
    "ebm.fit(X_train, y_train)\n",
    "\n",
    "# Evaluate the model\n",
    "accuracy = ebm.score(X_test, y_test)\n",
    "print(f\"Test set accuracy: {accuracy:.2f}\")\n",
    "\n",
    "\n",
    "from interpret import show\n",
    "\n",
    "# Get global explanations\n",
    "ebm_global = ebm.explain_global()\n",
    "\n",
    "# Show the global explanations\n",
    "show(ebm_global)\n",
    "\n"
   ],
   "outputs": [
    {
     "output_type": "stream",
     "name": "stdout",
     "text": [
      "Test set accuracy: 0.84\n"
     ]
    },
    {
     "output_type": "display_data",
     "data": {
      "text/html": [
       "<!-- http://127.0.0.1:7001/4756557584/ -->\n",
       "<iframe src=\"http://127.0.0.1:7001/4756557584/\" width=100% height=800 frameBorder=\"0\"></iframe>"
      ]
     },
     "metadata": {}
    }
   ],
   "metadata": {}
  },
  {
   "cell_type": "markdown",
   "source": [
    "The model achieves reasonable accuracy = 0.84. As expected we see that the final grade is strongly predicted by previous grades. \n",
    "Notably, being male ranks as the 4th highest predictor. Note, however that feature importance may change depeding on the random state."
   ],
   "metadata": {}
  },
  {
   "cell_type": "markdown",
   "source": [
    "# Fairness Analyis"
   ],
   "metadata": {}
  },
  {
   "cell_type": "code",
   "execution_count": 13,
   "source": [
    "# Model evaluation and fairness\n",
    "X_test = X_test # Unmuted\n",
    "y_test = y_test\n",
    "svr_final_model = svr_final_model\n",
    "y_pred = y_pred\n",
    "\n",
    "\n",
    "model_results = pd.DataFrame({'sex_M': preprocessed_df.loc[X_test.index, 'sex_M'], 'G3': y_test, 'prediction': y_pred})\n",
    "display(model_results)"
   ],
   "outputs": [
    {
     "output_type": "display_data",
     "data": {
      "text/html": [
       "<div>\n",
       "<style scoped>\n",
       "    .dataframe tbody tr th:only-of-type {\n",
       "        vertical-align: middle;\n",
       "    }\n",
       "\n",
       "    .dataframe tbody tr th {\n",
       "        vertical-align: top;\n",
       "    }\n",
       "\n",
       "    .dataframe thead th {\n",
       "        text-align: right;\n",
       "    }\n",
       "</style>\n",
       "<table border=\"1\" class=\"dataframe\">\n",
       "  <thead>\n",
       "    <tr style=\"text-align: right;\">\n",
       "      <th></th>\n",
       "      <th>sex_M</th>\n",
       "      <th>G3</th>\n",
       "      <th>prediction</th>\n",
       "    </tr>\n",
       "  </thead>\n",
       "  <tbody>\n",
       "    <tr>\n",
       "      <th>532</th>\n",
       "      <td>1.0</td>\n",
       "      <td>8</td>\n",
       "      <td>7.429840</td>\n",
       "    </tr>\n",
       "    <tr>\n",
       "      <th>375</th>\n",
       "      <td>0.0</td>\n",
       "      <td>15</td>\n",
       "      <td>14.624951</td>\n",
       "    </tr>\n",
       "    <tr>\n",
       "      <th>306</th>\n",
       "      <td>1.0</td>\n",
       "      <td>16</td>\n",
       "      <td>16.229666</td>\n",
       "    </tr>\n",
       "    <tr>\n",
       "      <th>625</th>\n",
       "      <td>0.0</td>\n",
       "      <td>10</td>\n",
       "      <td>10.505540</td>\n",
       "    </tr>\n",
       "    <tr>\n",
       "      <th>480</th>\n",
       "      <td>0.0</td>\n",
       "      <td>10</td>\n",
       "      <td>9.295490</td>\n",
       "    </tr>\n",
       "    <tr>\n",
       "      <th>...</th>\n",
       "      <td>...</td>\n",
       "      <td>...</td>\n",
       "      <td>...</td>\n",
       "    </tr>\n",
       "    <tr>\n",
       "      <th>403</th>\n",
       "      <td>0.0</td>\n",
       "      <td>15</td>\n",
       "      <td>15.111665</td>\n",
       "    </tr>\n",
       "    <tr>\n",
       "      <th>266</th>\n",
       "      <td>0.0</td>\n",
       "      <td>14</td>\n",
       "      <td>14.896176</td>\n",
       "    </tr>\n",
       "    <tr>\n",
       "      <th>641</th>\n",
       "      <td>0.0</td>\n",
       "      <td>15</td>\n",
       "      <td>17.170702</td>\n",
       "    </tr>\n",
       "    <tr>\n",
       "      <th>558</th>\n",
       "      <td>1.0</td>\n",
       "      <td>10</td>\n",
       "      <td>12.310040</td>\n",
       "    </tr>\n",
       "    <tr>\n",
       "      <th>242</th>\n",
       "      <td>1.0</td>\n",
       "      <td>11</td>\n",
       "      <td>10.424844</td>\n",
       "    </tr>\n",
       "  </tbody>\n",
       "</table>\n",
       "<p>130 rows × 3 columns</p>\n",
       "</div>"
      ],
      "text/plain": [
       "     sex_M  G3  prediction\n",
       "532    1.0   8    7.429840\n",
       "375    0.0  15   14.624951\n",
       "306    1.0  16   16.229666\n",
       "625    0.0  10   10.505540\n",
       "480    0.0  10    9.295490\n",
       "..     ...  ..         ...\n",
       "403    0.0  15   15.111665\n",
       "266    0.0  14   14.896176\n",
       "641    0.0  15   17.170702\n",
       "558    1.0  10   12.310040\n",
       "242    1.0  11   10.424844\n",
       "\n",
       "[130 rows x 3 columns]"
      ]
     },
     "metadata": {}
    }
   ],
   "metadata": {}
  },
  {
   "cell_type": "markdown",
   "source": [
    "#  TENTATIVE FAIRNESS CODE - TO CHECK"
   ],
   "metadata": {}
  },
  {
   "cell_type": "code",
   "execution_count": 33,
   "source": [
    "# Fairness measures\n",
    "from scipy.stats import pearsonr \n",
    "\n",
    "\n",
    "def fairness_metrics(model_results):\n",
    "    # Pearson correlation coefficient and p-value: between sex and actual outcomes\n",
    "    r_acc, p_value_acc = pearsonr(model_results['sex_M'], model_results['G3'])\n",
    "\n",
    "    # R-squared\n",
    "    r_squared_acc = r_acc ** 2\n",
    "\n",
    "    print(f\"Sex & actual grades:\")\n",
    "    print(f\"Pearson correlation coefficient: {r_acc}\")\n",
    "    print(f\"P-value: {p_value_acc}\")\n",
    "    print(f\"R-squared: {r_squared_acc}\")\n",
    "\n",
    "    print('\\n') \n",
    "    \n",
    "    # Pearson correlation coefficient and p-value: between sex and predicted outcomes\n",
    "    r_pred, p_value_pred = pearsonr(model_results['sex_M'], model_results['prediction'])\n",
    "\n",
    "    # R-squared\n",
    "    r_squared_pred = r_pred ** 2\n",
    "\n",
    "    print(f\"Sex & predicted grades:\")\n",
    "    print(f\"Pearson correlation coefficient: {r_pred}\")\n",
    "    print(f\"P-value: {p_value_pred}\")\n",
    "    print(f\"R-squared: {r_squared_pred}\")\n",
    "\n",
    "    # Subset of model results per sex\n",
    "    model_results_f = model_results[model_results['sex_M'] == 0] # females (one hot encoding)\n",
    "    model_results_m = model_results[model_results['sex_M'] == 1] # males\n",
    "   \n",
    "    # Mean squared error\n",
    "    MAE_f = metrics.mean_absolute_error(model_results_f['G3'], model_results_f['prediction'])\n",
    "    MAE_m = metrics.mean_absolute_error(model_results_m['G3'], model_results_m['prediction'])\n",
    "\n",
    "    # Print MAE difference per sex\n",
    "    MAE_difference = (MAE_f - MAE_m)\n",
    "    print('\\n')\n",
    "    print(f'MAE females: {round(MAE_f,4)}')\n",
    "    print( f'MAE males: {round(MAE_m,4)}')\n",
    "    print(f'MAE difference: {round(MAE_difference,4)}')\n",
    "    return ''\n",
    "    \n",
    "    \n",
    "\n",
    "fairness_metrics(model_results)"
   ],
   "outputs": [
    {
     "output_type": "stream",
     "name": "stdout",
     "text": [
      "Sex & actual grades:\n",
      "Pearson correlation coefficient: -0.03240745517392293\n",
      "P-value: 0.7143432166432533\n",
      "R-squared: 0.0010502431508498244\n",
      "\n",
      "\n",
      "Sex & predicted grades:\n",
      "Pearson correlation coefficient: -0.058807762205008135\n",
      "P-value: 0.5062991706317792\n",
      "R-squared: 0.003458352895560783\n",
      "\n",
      "\n",
      "MAE females: 0.7073\n",
      "MAE males: 0.7369\n",
      "MAE difference: -0.0297\n"
     ]
    },
    {
     "output_type": "execute_result",
     "data": {
      "text/plain": [
       "''"
      ]
     },
     "metadata": {},
     "execution_count": 33
    }
   ],
   "metadata": {}
  },
  {
   "cell_type": "markdown",
   "source": [
    "# Testing muting -- doesn't make much of a difference "
   ],
   "metadata": {}
  },
  {
   "cell_type": "code",
   "execution_count": 136,
   "source": [
    "## Muting Test -- Retrieve the set of proxies to mute\n",
    "X_test['Walc'] = X_test['Walc'].mean()\n",
    "X_test['Dalc'] = X_test['Dalc'].mean()\n",
    "X_test['health'] = X_test['health'].mean()\n",
    "X_test['studytime'] = X_test['studytime'].mean()\n",
    "X_test['failures'] = X_test['failures'].mean()\n",
    "X_test['absences'] = X_test['absences'].mean()\n",
    "X_test['famrel'] = X_test['famrel'].mean()\n",
    "X_test['freetime'] = X_test['freetime'].mean()\n",
    "X_test['age'] = X_test['age'].mean()\n",
    "\n",
    "y_test = y_test\n",
    "svr_final_model = svr_final_model\n",
    "y_pred = svr_final_model.predict(X_test)\n",
    "\n",
    "model_results = pd.DataFrame({'sex_M': preprocessed_df.loc[X_test.index, 'sex_M'], 'G3': y_test, 'prediction': y_pred})\n",
    "\n",
    "fairness_metrics(model_results)"
   ],
   "outputs": [
    {
     "output_type": "stream",
     "name": "stdout",
     "text": [
      "PCC (sex & actual grades):\n",
      "PearsonRResult(statistic=-0.03240745517392293, pvalue=0.7143432166432565)\n",
      "\n",
      "\n",
      "PCC (sex & predicted grades):\n",
      "PearsonRResult(statistic=-0.053815593922252415, pvalue=0.5431165795767847)\n",
      "\n",
      "\n",
      "MAE females: 1.8796\n",
      "MAE males: 1.7717\n",
      "MAE difference: 0.1079\n"
     ]
    },
    {
     "output_type": "execute_result",
     "data": {
      "text/plain": [
       "''"
      ]
     },
     "metadata": {},
     "execution_count": 136
    }
   ],
   "metadata": {}
  },
  {
   "cell_type": "markdown",
   "source": [
    "## Deprecated: We initially explored binary and 5-level SVC classifiers "
   ],
   "metadata": {}
  },
  {
   "cell_type": "code",
   "execution_count": 405,
   "source": [
    "# split data for training and testing (80:20), use all features except predictors and contributors\n",
    "features = data\n",
    "X = features.drop(columns=['G3'])\n",
    "y = data['G3'] # predict final grade\n",
    "X_train, X_test, y_train, y_test = train_test_split(X, y, test_size=0.2, random_state=42)\n",
    "\n",
    "# binary classifier: pass if >= 10, else fail\n",
    "\n",
    "# redefine values for binary classification\n",
    "y_train_binary = y_train.tolist()\n",
    "y_test_binary = y_test.tolist()\n",
    "for i in range(len(y_train_binary)):\n",
    "    if y_train_binary[i] >= 10:\n",
    "        y_train_binary[i] = 1\n",
    "    else:\n",
    "        y_train_binary[i] = 0\n",
    "for i in range(len(y_test_binary)):\n",
    "    if y_test_binary[i] >= 10:\n",
    "        y_test_binary[i] = 1\n",
    "    else:\n",
    "        y_test_binary[i] = 0\n",
    "\n",
    "# we use SVM, paper tried 5 different models\n",
    "clf = SVC().fit(X_train, y_train_binary)\n",
    "pred = clf.predict(X_test)\n",
    "metrics.accuracy_score(y_test_binary, pred) # 88.5% accuracy"
   ],
   "outputs": [
    {
     "output_type": "execute_result",
     "data": {
      "text/plain": [
       "0.8846153846153846"
      ]
     },
     "metadata": {},
     "execution_count": 405
    }
   ],
   "metadata": {}
  },
  {
   "cell_type": "code",
   "execution_count": 406,
   "source": [
    "# 5 level classification as defined in paper\n",
    "X_train, X_test, y_train, y_test = train_test_split(X, y, test_size=0.2, random_state=42)\n",
    "y_train_5 = y_train.replace(to_replace=[[20, 19, 18, 17, 16], [15, 14], [13, 12], [11, 10], [9,8,7,6,5,4,3,2,1]], value=[1, 2, 3, 4, 5])\n",
    "y_test_5 = y_test.replace(to_replace=[[20, 19, 18, 17, 16], [15, 14], [13, 12], [11, 10], [9,8,7,6,5,4,3,2,1]], value=[1, 2, 3, 4, 5])\n",
    "clf = SVC().fit(X_train, y_train_5)\n",
    "pred = clf.predict(X_test)\n",
    "metrics.accuracy_score(y_test_5, pred) # 36.9% accuracy"
   ],
   "outputs": [
    {
     "output_type": "execute_result",
     "data": {
      "text/plain": [
       "0.36923076923076925"
      ]
     },
     "metadata": {},
     "execution_count": 406
    }
   ],
   "metadata": {}
  },
  {
   "cell_type": "code",
   "execution_count": 407,
   "source": [
    "# split data for training and testing (80:20), use all features except predictor, sensitive attribute, and best predictors for sex\n",
    "features = data\n",
    "X = features.drop(columns=['G3', 'G1', 'G2', 'sex', 'Walc'])\n",
    "y = data['G3'] # predict final grade\n",
    "X_train, X_test, y_train, y_test = train_test_split(X, y, test_size=0.2, random_state=42)"
   ],
   "outputs": [],
   "metadata": {}
  },
  {
   "cell_type": "code",
   "execution_count": 408,
   "source": [
    "# binary classifier: pass if >= 10, else fail\n",
    "\n",
    "# redefine values for binary classification\n",
    "y_train_binary = y_train.tolist()\n",
    "y_test_binary = y_test.tolist()\n",
    "for i in range(len(y_train_binary)):\n",
    "    if y_train_binary[i] >= 10:\n",
    "        y_train_binary[i] = 1\n",
    "    else:\n",
    "        y_train_binary[i] = 0\n",
    "for i in range(len(y_test_binary)):\n",
    "    if y_test_binary[i] >= 10:\n",
    "        y_test_binary[i] = 1\n",
    "    else:\n",
    "        y_test_binary[i] = 0\n",
    "\n",
    "# we use SVM, paper tried 5 different models\n",
    "clf = SVC().fit(X_train, y_train_binary)\n",
    "pred = clf.predict(X_test)\n",
    "metrics.accuracy_score(y_test_binary, pred) # 93.1% accuracy"
   ],
   "outputs": [
    {
     "output_type": "execute_result",
     "data": {
      "text/plain": [
       "0.8846153846153846"
      ]
     },
     "metadata": {},
     "execution_count": 408
    }
   ],
   "metadata": {}
  },
  {
   "cell_type": "code",
   "execution_count": 409,
   "source": [
    "# 5 level classification as defined in paper\n",
    "y_train_5 = y_train.replace(to_replace=[[20, 19, 18, 17, 16], [15, 14], [13, 12], [11, 10], [9,8,7,6,5,4,3,2,1]], value=[1, 2, 3, 4, 5])\n",
    "y_test_5 = y_test.replace(to_replace=[[20, 19, 18, 17, 16], [15, 14], [13, 12], [11, 10], [9,8,7,6,5,4,3,2,1]], value=[1, 2, 3, 4, 5])\n",
    "clf = SVC().fit(X_train, y_train_5)\n",
    "pred = clf.predict(X_test)\n",
    "metrics.accuracy_score(y_test_5, pred) # 70% accuracy"
   ],
   "outputs": [
    {
     "output_type": "execute_result",
     "data": {
      "text/plain": [
       "0.36153846153846153"
      ]
     },
     "metadata": {},
     "execution_count": 409
    }
   ],
   "metadata": {}
  },
  {
   "cell_type": "code",
   "execution_count": 410,
   "source": [
    "# classification: try to predict sensitive attribute (sex) using best feature\n",
    "features = data[['Walc']]\n",
    "X = features\n",
    "y = data['sex']\n",
    "X_train, X_test, y_train, y_test = train_test_split(X, y, test_size=0.2, random_state=42)\n",
    "clf = SVC().fit(X_train, y_train)\n",
    "pred = clf.predict(X_test)\n",
    "metrics.accuracy_score(y_test, pred) # 71.5% accuracy"
   ],
   "outputs": [
    {
     "output_type": "execute_result",
     "data": {
      "text/plain": [
       "0.6230769230769231"
      ]
     },
     "metadata": {},
     "execution_count": 410
    }
   ],
   "metadata": {}
  },
  {
   "cell_type": "code",
   "execution_count": 411,
   "source": [
    "# classification: predict sensitive attribute using all features except predictor, grades\n",
    "features = data\n",
    "X = features.drop(columns=['G1', 'G2', 'G3', 'sex'])\n",
    "y = data['sex']\n",
    "X_train, X_test, y_train, y_test = train_test_split(X, y, test_size=0.2, random_state=42)\n",
    "clf = SVC().fit(X_train, y_train)\n",
    "pred = clf.predict(X_test)\n",
    "metrics.accuracy_score(y_test, pred) #73.1% accuracy"
   ],
   "outputs": [
    {
     "output_type": "execute_result",
     "data": {
      "text/plain": [
       "0.7307692307692307"
      ]
     },
     "metadata": {},
     "execution_count": 411
    }
   ],
   "metadata": {}
  },
  {
   "cell_type": "code",
   "execution_count": 413,
   "source": [
    "# classification: predict sensitive attribute using all features except predictor, grades\n",
    "features = data\n",
    "X = features.drop(columns=['G1', 'G2', 'G3', 'Pstatus'])\n",
    "y = data['Pstatus']\n",
    "X_train, X_test, y_train, y_test = train_test_split(X, y, test_size=0.2, random_state=42)\n",
    "clf = SVC().fit(X_train, y_train)\n",
    "pred = clf.predict(X_test)\n",
    "metrics.accuracy_score(y_test, pred) #83.8% accuracy"
   ],
   "outputs": [
    {
     "output_type": "execute_result",
     "data": {
      "text/plain": [
       "0.8384615384615385"
      ]
     },
     "metadata": {},
     "execution_count": 413
    }
   ],
   "metadata": {}
  },
  {
   "cell_type": "code",
   "execution_count": 414,
   "source": [
    "# SVM: group education by higher and non-higher, predict sensitive attribute using all features except predictor, grades\n",
    "features = data\n",
    "X = features.drop(columns=['G1', 'G2', 'G3', 'Medu'])\n",
    "y = data['Medu']\n",
    "X_train, X_test, y_train, y_test = train_test_split(X, y, test_size=0.2, random_state=42)\n",
    "\n",
    "# redefine values for binary classification\n",
    "y_train_binary = y_train.tolist()\n",
    "y_test_binary = y_test.tolist()\n",
    "for i in range(len(y_train_binary)):\n",
    "    if y_train_binary[i] == 4:\n",
    "        y_train_binary[i] = 1\n",
    "    else:\n",
    "        y_train_binary[i] = 0\n",
    "for i in range(len(y_test_binary)):\n",
    "    if y_test_binary[i] == 4:\n",
    "        y_test_binary[i] = 1\n",
    "    else:\n",
    "        y_test_binary[i] = 0\n",
    "\n",
    "clf = SVC().fit(X_train, y_train_binary)\n",
    "pred = clf.predict(X_test)\n",
    "metrics.accuracy_score(y_test_binary, pred) #80% accuracy"
   ],
   "outputs": [
    {
     "output_type": "execute_result",
     "data": {
      "text/plain": [
       "0.8"
      ]
     },
     "metadata": {},
     "execution_count": 414
    }
   ],
   "metadata": {}
  },
  {
   "cell_type": "code",
   "execution_count": 415,
   "source": [
    "# SVM: group education by higher and non-higher, predict sensitive attribute using highly correlated features\n",
    "features = data\n",
    "X = features[['Mjob', 'failures', 'Fedu', 'traveltime']]\n",
    "y = data['Medu']\n",
    "X_train, X_test, y_train, y_test = train_test_split(X, y, test_size=0.2, random_state=42)\n",
    "\n",
    "# redefine values for binary classification\n",
    "y_train_binary = y_train.tolist()\n",
    "y_test_binary = y_test.tolist()\n",
    "for i in range(len(y_train_binary)):\n",
    "    if y_train_binary[i] == 4:\n",
    "        y_train_binary[i] = 1\n",
    "    else:\n",
    "        y_train_binary[i] = 0\n",
    "for i in range(len(y_test_binary)):\n",
    "    if y_test_binary[i] == 4:\n",
    "        y_test_binary[i] = 1\n",
    "    else:\n",
    "        y_test_binary[i] = 0\n",
    "\n",
    "clf = SVC().fit(X_train, y_train_binary)\n",
    "pred = clf.predict(X_test)\n",
    "metrics.accuracy_score(y_test_binary, pred) #89.2% accuracy"
   ],
   "outputs": [
    {
     "output_type": "execute_result",
     "data": {
      "text/plain": [
       "0.8923076923076924"
      ]
     },
     "metadata": {},
     "execution_count": 415
    }
   ],
   "metadata": {}
  },
  {
   "cell_type": "code",
   "execution_count": 416,
   "source": [
    "# SVM: predict sensitive attribute using all features except predictor, final grade\n",
    "features = data\n",
    "X = features.drop(columns=['Fedu', 'G1', 'G2', 'G3'])\n",
    "y = data['Fedu']\n",
    "X_train, X_test, y_train, y_test = train_test_split(X, y, test_size=0.2, random_state=42)\n",
    "\n",
    "# redefine values for binary classification\n",
    "y_train_binary = y_train.tolist()\n",
    "y_test_binary = y_test.tolist()\n",
    "for i in range(len(y_train_binary)):\n",
    "    if y_train_binary[i] == 4:\n",
    "        y_train_binary[i] = 1\n",
    "    else:\n",
    "        y_train_binary[i] = 0\n",
    "for i in range(len(y_test_binary)):\n",
    "    if y_test_binary[i] == 4:\n",
    "        y_test_binary[i] = 1\n",
    "    else:\n",
    "        y_test_binary[i] = 0\n",
    "\n",
    "clf = SVC().fit(X_train, y_train_binary)\n",
    "pred = clf.predict(X_test)\n",
    "metrics.accuracy_score(y_test_binary, pred) #73.8% accuracy"
   ],
   "outputs": [
    {
     "output_type": "execute_result",
     "data": {
      "text/plain": [
       "0.7384615384615385"
      ]
     },
     "metadata": {},
     "execution_count": 416
    }
   ],
   "metadata": {}
  },
  {
   "cell_type": "code",
   "execution_count": 417,
   "source": [
    "# SVM: predict combined education level by adding edu levels, use all features except edu levels and final grade\n",
    "data['combined_pedu'] = data['Medu'] + data['Fedu']\n",
    "features = data\n",
    "X = features.drop(columns=['combined_pedu', 'Fedu', 'Medu', 'G1', 'G2', 'G3'])\n",
    "y = data['combined_pedu']\n",
    "X_train, X_test, y_train, y_test = train_test_split(X, y, test_size=0.2, random_state=42)\n",
    "\n",
    "# redefine values for binary classification\n",
    "y_train_binary = y_train.tolist()\n",
    "y_test_binary = y_test.tolist()\n",
    "for i in range(len(y_train_binary)):\n",
    "    if y_train_binary[i] > 6:\n",
    "        y_train_binary[i] = 1\n",
    "    else:\n",
    "        y_train_binary[i] = 0\n",
    "for i in range(len(y_test_binary)):\n",
    "    if y_test_binary[i] > 6:\n",
    "        y_test_binary[i] = 1\n",
    "    else:\n",
    "        y_test_binary[i] = 0\n",
    "\n",
    "clf = SVC().fit(X_train, y_train_binary)\n",
    "pred = clf.predict(X_test)\n",
    "metrics.accuracy_score(y_test_binary, pred) #71.5% accuracy"
   ],
   "outputs": [
    {
     "output_type": "execute_result",
     "data": {
      "text/plain": [
       "0.7153846153846154"
      ]
     },
     "metadata": {},
     "execution_count": 417
    }
   ],
   "metadata": {}
  },
  {
   "cell_type": "code",
   "execution_count": 418,
   "source": [
    "# SVM: predict combined education level by adding edu levels, use all features except edu levels and final grade\n",
    "data['combined_pedu'] = data['Medu'] + data['Fedu']\n",
    "features = data\n",
    "X = features[['failures', 'Mjob', 'Fjob', 'traveltime']]\n",
    "y = data['combined_pedu']\n",
    "X_train, X_test, y_train, y_test = train_test_split(X, y, test_size=0.2, random_state=42)\n",
    "\n",
    "# redefine values for binary classification\n",
    "y_train_binary = y_train.tolist()\n",
    "y_test_binary = y_test.tolist()\n",
    "for i in range(len(y_train_binary)):\n",
    "    if y_train_binary[i] > 6:\n",
    "        y_train_binary[i] = 1\n",
    "    else:\n",
    "        y_train_binary[i] = 0\n",
    "for i in range(len(y_test_binary)):\n",
    "    if y_test_binary[i] > 6:\n",
    "        y_test_binary[i] = 1\n",
    "    else:\n",
    "        y_test_binary[i] = 0\n",
    "\n",
    "clf = SVC().fit(X_train, y_train_binary)\n",
    "pred = clf.predict(X_test)\n",
    "metrics.accuracy_score(y_test_binary, pred) #82.3% accuracy"
   ],
   "outputs": [
    {
     "output_type": "execute_result",
     "data": {
      "text/plain": [
       "0.823076923076923"
      ]
     },
     "metadata": {},
     "execution_count": 418
    }
   ],
   "metadata": {}
  },
  {
   "cell_type": "markdown",
   "source": [
    "The following blocks use the Mathematics dataset."
   ],
   "metadata": {}
  },
  {
   "cell_type": "code",
   "execution_count": 419,
   "source": [
    "data = pd.read_csv('data/student-mat.csv', delimiter=';')\n",
    "# heatmap requires numerical values\n",
    "data = data.replace(to_replace=['M', 'F'], value=[0,1]) #sex\n",
    "data = data.replace(to_replace=['GP', 'MS'], value=[0,1]) #school\n",
    "data = data.replace(to_replace=['A', 'T'], value=[0,1]) #Pstatus\n",
    "data = data.replace(to_replace=['GT3', 'LE3'], value=[0,1]) #famsize\n",
    "data = data.replace(to_replace=['U', 'R'], value=[0,1]) #address\n",
    "data = data.replace(to_replace=['father', 'mother'], value=[0,1]) #guardian\n",
    "data = data.replace(to_replace=['at_home', 'health', 'other', 'services', 'teacher'], value=[0,1,2,3,4]) #Mjob, Fjob\n",
    "data = data.replace(to_replace=['course', 'other', 'home', 'reputation'], value=[0,1,2,3]) #reason\n",
    "data = data.replace(to_replace=['no', 'yes'], value=[0,1]) #fatherd, nursery, higher, famsup, romantic\n",
    "data.head()"
   ],
   "outputs": [
    {
     "output_type": "execute_result",
     "data": {
      "text/html": [
       "<div>\n",
       "<style scoped>\n",
       "    .dataframe tbody tr th:only-of-type {\n",
       "        vertical-align: middle;\n",
       "    }\n",
       "\n",
       "    .dataframe tbody tr th {\n",
       "        vertical-align: top;\n",
       "    }\n",
       "\n",
       "    .dataframe thead th {\n",
       "        text-align: right;\n",
       "    }\n",
       "</style>\n",
       "<table border=\"1\" class=\"dataframe\">\n",
       "  <thead>\n",
       "    <tr style=\"text-align: right;\">\n",
       "      <th></th>\n",
       "      <th>school</th>\n",
       "      <th>sex</th>\n",
       "      <th>age</th>\n",
       "      <th>address</th>\n",
       "      <th>famsize</th>\n",
       "      <th>Pstatus</th>\n",
       "      <th>Medu</th>\n",
       "      <th>Fedu</th>\n",
       "      <th>Mjob</th>\n",
       "      <th>Fjob</th>\n",
       "      <th>...</th>\n",
       "      <th>famrel</th>\n",
       "      <th>freetime</th>\n",
       "      <th>goout</th>\n",
       "      <th>Dalc</th>\n",
       "      <th>Walc</th>\n",
       "      <th>health</th>\n",
       "      <th>absences</th>\n",
       "      <th>G1</th>\n",
       "      <th>G2</th>\n",
       "      <th>G3</th>\n",
       "    </tr>\n",
       "  </thead>\n",
       "  <tbody>\n",
       "    <tr>\n",
       "      <th>0</th>\n",
       "      <td>0</td>\n",
       "      <td>1</td>\n",
       "      <td>18</td>\n",
       "      <td>0</td>\n",
       "      <td>0</td>\n",
       "      <td>0</td>\n",
       "      <td>4</td>\n",
       "      <td>4</td>\n",
       "      <td>0</td>\n",
       "      <td>4</td>\n",
       "      <td>...</td>\n",
       "      <td>4</td>\n",
       "      <td>3</td>\n",
       "      <td>4</td>\n",
       "      <td>1</td>\n",
       "      <td>1</td>\n",
       "      <td>3</td>\n",
       "      <td>6</td>\n",
       "      <td>5</td>\n",
       "      <td>6</td>\n",
       "      <td>6</td>\n",
       "    </tr>\n",
       "    <tr>\n",
       "      <th>1</th>\n",
       "      <td>0</td>\n",
       "      <td>1</td>\n",
       "      <td>17</td>\n",
       "      <td>0</td>\n",
       "      <td>0</td>\n",
       "      <td>1</td>\n",
       "      <td>1</td>\n",
       "      <td>1</td>\n",
       "      <td>0</td>\n",
       "      <td>2</td>\n",
       "      <td>...</td>\n",
       "      <td>5</td>\n",
       "      <td>3</td>\n",
       "      <td>3</td>\n",
       "      <td>1</td>\n",
       "      <td>1</td>\n",
       "      <td>3</td>\n",
       "      <td>4</td>\n",
       "      <td>5</td>\n",
       "      <td>5</td>\n",
       "      <td>6</td>\n",
       "    </tr>\n",
       "    <tr>\n",
       "      <th>2</th>\n",
       "      <td>0</td>\n",
       "      <td>1</td>\n",
       "      <td>15</td>\n",
       "      <td>0</td>\n",
       "      <td>1</td>\n",
       "      <td>1</td>\n",
       "      <td>1</td>\n",
       "      <td>1</td>\n",
       "      <td>0</td>\n",
       "      <td>2</td>\n",
       "      <td>...</td>\n",
       "      <td>4</td>\n",
       "      <td>3</td>\n",
       "      <td>2</td>\n",
       "      <td>2</td>\n",
       "      <td>3</td>\n",
       "      <td>3</td>\n",
       "      <td>10</td>\n",
       "      <td>7</td>\n",
       "      <td>8</td>\n",
       "      <td>10</td>\n",
       "    </tr>\n",
       "    <tr>\n",
       "      <th>3</th>\n",
       "      <td>0</td>\n",
       "      <td>1</td>\n",
       "      <td>15</td>\n",
       "      <td>0</td>\n",
       "      <td>0</td>\n",
       "      <td>1</td>\n",
       "      <td>4</td>\n",
       "      <td>2</td>\n",
       "      <td>1</td>\n",
       "      <td>3</td>\n",
       "      <td>...</td>\n",
       "      <td>3</td>\n",
       "      <td>2</td>\n",
       "      <td>2</td>\n",
       "      <td>1</td>\n",
       "      <td>1</td>\n",
       "      <td>5</td>\n",
       "      <td>2</td>\n",
       "      <td>15</td>\n",
       "      <td>14</td>\n",
       "      <td>15</td>\n",
       "    </tr>\n",
       "    <tr>\n",
       "      <th>4</th>\n",
       "      <td>0</td>\n",
       "      <td>1</td>\n",
       "      <td>16</td>\n",
       "      <td>0</td>\n",
       "      <td>0</td>\n",
       "      <td>1</td>\n",
       "      <td>3</td>\n",
       "      <td>3</td>\n",
       "      <td>2</td>\n",
       "      <td>2</td>\n",
       "      <td>...</td>\n",
       "      <td>4</td>\n",
       "      <td>3</td>\n",
       "      <td>2</td>\n",
       "      <td>1</td>\n",
       "      <td>2</td>\n",
       "      <td>5</td>\n",
       "      <td>4</td>\n",
       "      <td>6</td>\n",
       "      <td>10</td>\n",
       "      <td>10</td>\n",
       "    </tr>\n",
       "  </tbody>\n",
       "</table>\n",
       "<p>5 rows × 33 columns</p>\n",
       "</div>"
      ],
      "text/plain": [
       "   school  sex  age  address  famsize  Pstatus  Medu  Fedu  Mjob  Fjob  ...  \\\n",
       "0       0    1   18        0        0        0     4     4     0     4  ...   \n",
       "1       0    1   17        0        0        1     1     1     0     2  ...   \n",
       "2       0    1   15        0        1        1     1     1     0     2  ...   \n",
       "3       0    1   15        0        0        1     4     2     1     3  ...   \n",
       "4       0    1   16        0        0        1     3     3     2     2  ...   \n",
       "\n",
       "   famrel  freetime  goout  Dalc  Walc  health  absences  G1  G2  G3  \n",
       "0       4         3      4     1     1       3         6   5   6   6  \n",
       "1       5         3      3     1     1       3         4   5   5   6  \n",
       "2       4         3      2     2     3       3        10   7   8  10  \n",
       "3       3         2      2     1     1       5         2  15  14  15  \n",
       "4       4         3      2     1     2       5         4   6  10  10  \n",
       "\n",
       "[5 rows x 33 columns]"
      ]
     },
     "metadata": {},
     "execution_count": 419
    }
   ],
   "metadata": {}
  },
  {
   "cell_type": "code",
   "execution_count": 421,
   "source": [
    "# RF classifier: predict sex from features\n",
    "features = data[['studytime', 'Walc', 'freetime', 'Mjob', 'schoolsup', 'health']]\n",
    "X = features\n",
    "y = data['sex']\n",
    "X_train, X_test, y_train, y_test = train_test_split(X, y, test_size=0.2, random_state=42)\n",
    "clf = ensemble.RandomForestClassifier().fit(X_train, y_train)\n",
    "pred = clf.predict(X_test)\n",
    "metrics.accuracy_score(y_test, pred)\n",
    "metrics.f1_score(y_test, pred)"
   ],
   "outputs": [
    {
     "output_type": "execute_result",
     "data": {
      "text/plain": [
       "0.5714285714285714"
      ]
     },
     "metadata": {},
     "execution_count": 421
    }
   ],
   "metadata": {}
  },
  {
   "cell_type": "code",
   "execution_count": 422,
   "source": [
    "# SVM classifier: predict sex from features\n",
    "features = data[['studytime', 'Walc', 'freetime', 'Mjob', 'schoolsup', 'health']]\n",
    "X = features\n",
    "y = data['sex']\n",
    "X_train, X_test, y_train, y_test = train_test_split(X, y, test_size=0.2, random_state=42)\n",
    "clf = SVC().fit(X_train, y_train)\n",
    "pred = clf.predict(X_test)\n",
    "metrics.accuracy_score(y_test, pred)\n",
    "metrics.f1_score(y_test, pred)\n",
    "print(metrics.classification_report(y_test, pred))"
   ],
   "outputs": [
    {
     "output_type": "stream",
     "name": "stdout",
     "text": [
      "              precision    recall  f1-score   support\n",
      "\n",
      "           0       0.65      0.59      0.62        41\n",
      "           1       0.60      0.66      0.62        38\n",
      "\n",
      "    accuracy                           0.62        79\n",
      "   macro avg       0.62      0.62      0.62        79\n",
      "weighted avg       0.62      0.62      0.62        79\n",
      "\n"
     ]
    }
   ],
   "metadata": {}
  },
  {
   "cell_type": "code",
   "execution_count": 423,
   "source": [
    "# RF classifier: predict cohabitation from features\n",
    "features = data[['studytime', 'Walc', 'freetime', 'Mjob', 'schoolsup', 'health']]\n",
    "X = features\n",
    "y = data['Pstatus']\n",
    "X_train, X_test, y_train, y_test = train_test_split(X, y, test_size=0.3, random_state=42)\n",
    "clf = ensemble.RandomForestClassifier().fit(X_train, y_train)\n",
    "pred = clf.predict(X_test)\n",
    "metrics.accuracy_score(y_test, pred)\n",
    "metrics.f1_score(y_test, pred)\n",
    "print(metrics.classification_report(y_test, pred))"
   ],
   "outputs": [
    {
     "output_type": "stream",
     "name": "stdout",
     "text": [
      "              precision    recall  f1-score   support\n",
      "\n",
      "           0       0.67      0.14      0.24        14\n",
      "           1       0.90      0.99      0.94       105\n",
      "\n",
      "    accuracy                           0.89       119\n",
      "   macro avg       0.78      0.57      0.59       119\n",
      "weighted avg       0.87      0.89      0.86       119\n",
      "\n"
     ]
    }
   ],
   "metadata": {}
  },
  {
   "cell_type": "code",
   "execution_count": 424,
   "source": [
    "# SVM classifier: predict cohabitation from features\n",
    "features = data[['studytime', 'Walc', 'freetime', 'Mjob', 'schoolsup', 'health']]\n",
    "X = features\n",
    "y = data['Pstatus']\n",
    "X_train, X_test, y_train, y_test = train_test_split(X, y, test_size=0.2, random_state=42)\n",
    "clf = SVC().fit(X_train, y_train)\n",
    "pred = clf.predict(X_test)\n",
    "metrics.accuracy_score(y_test, pred)\n",
    "# metrics.f1_score(y_test, pred)"
   ],
   "outputs": [
    {
     "output_type": "execute_result",
     "data": {
      "text/plain": [
       "0.8860759493670886"
      ]
     },
     "metadata": {},
     "execution_count": 424
    }
   ],
   "metadata": {}
  },
  {
   "cell_type": "markdown",
   "source": [
    "This part is to predict G3 for the mathematics data excluding itself, G1, and G2"
   ],
   "metadata": {}
  },
  {
   "cell_type": "code",
   "execution_count": 425,
   "source": [
    "# split data for training and testing (80:20), use all features except predictor and sensitive attribute\n",
    "features = data\n",
    "X = features.drop(columns=['G3', 'sex'])\n",
    "y = data['G3'] # predict final grade\n",
    "X_train, X_test, y_train, y_test = train_test_split(X, y, test_size=0.2, random_state=42)"
   ],
   "outputs": [],
   "metadata": {}
  },
  {
   "cell_type": "code",
   "execution_count": 426,
   "source": [
    "# binary classifier: pass if >= 10, else fail\n",
    "\n",
    "# redefine values for binary classification\n",
    "y_train_binary = y_train.tolist()\n",
    "y_test_binary = y_test.tolist()\n",
    "for i in range(len(y_train_binary)):\n",
    "    if y_train_binary[i] >= 10:\n",
    "        y_train_binary[i] = 1\n",
    "    else:\n",
    "        y_train_binary[i] = 0\n",
    "for i in range(len(y_test_binary)):\n",
    "    if y_test_binary[i] >= 10:\n",
    "        y_test_binary[i] = 1\n",
    "    else:\n",
    "        y_test_binary[i] = 0\n",
    "\n",
    "# we use SVM, paper tried 5 different models\n",
    "clf = SVC().fit(X_train, y_train_binary)\n",
    "pred = clf.predict(X_test)\n",
    "metrics.accuracy_score(y_test_binary, pred) # 93.1% accuracy"
   ],
   "outputs": [
    {
     "output_type": "execute_result",
     "data": {
      "text/plain": [
       "0.8860759493670886"
      ]
     },
     "metadata": {},
     "execution_count": 426
    }
   ],
   "metadata": {}
  },
  {
   "cell_type": "code",
   "execution_count": 427,
   "source": [
    "# 5 level classification as defined in paper\n",
    "y_train_5 = y_train.replace(to_replace=[[20, 19, 18, 17, 16], [15, 14], [13, 12], [11, 10], [9,8,7,6,5,4,3,2,1]], value=[1, 2, 3, 4, 5])\n",
    "y_test_5 = y_test.replace(to_replace=[[20, 19, 18, 17, 16], [15, 14], [13, 12], [11, 10], [9,8,7,6,5,4,3,2,1]], value=[1, 2, 3, 4, 5])\n",
    "clf = SVC().fit(X_train, y_train_5)\n",
    "pred = clf.predict(X_test)\n",
    "metrics.accuracy_score(y_test_5, pred) # 70% accuracy"
   ],
   "outputs": [
    {
     "output_type": "execute_result",
     "data": {
      "text/plain": [
       "0.6708860759493671"
      ]
     },
     "metadata": {},
     "execution_count": 427
    }
   ],
   "metadata": {}
  },
  {
   "cell_type": "markdown",
   "source": [
    "Deprecated: we tried explored these models, but we decided not to use them in the end"
   ],
   "metadata": {}
  },
  {
   "cell_type": "code",
   "execution_count": null,
   "source": [
    "# add correlation matrix to see which features are highly correlated\n",
    "corr_data = data.select_dtypes(include='number')\n",
    "corr = corr_data.corr()\n",
    "fig, ax = plt.subplots(figsize=(25,25))\n",
    "ax = sns.heatmap(corr, annot=True)\n",
    "\n",
    "# classification: try to predict sensitive attribute (sex) using highly correlated features\n",
    "features = data[['Dalc', 'Walc', 'studytime', 'freetime']]\n",
    "X = features\n",
    "y = data['sex']\n",
    "X_train, X_test, y_train, y_test = train_test_split(X, y, test_size=0.2, random_state=42)\n",
    "clf = SVC().fit(X_train, y_train)\n",
    "pred = clf.predict(X_test)\n",
    "metrics.accuracy_score(y_test, pred) # 75.4% accuracy\n",
    "\n",
    "# regression: score determined by RMSE\n",
    "regr = SVR().fit(X_train, y_train)\n",
    "pred = regr.predict(X_test)\n",
    "metrics.mean_squared_error(y_test, pred) # 1.70\n",
    "\n",
    "# regression: predict whether parents are cohabitating\n",
    "features = data[['famsize', 'guardian', 'address', 'Walc', 'activities', 'romantic', 'internet']]\n",
    "X = features\n",
    "y = data['Pstatus']\n",
    "X_train, X_test, y_train, y_test = train_test_split(X, y, test_size=0.2, random_state=42)\n",
    "X_train = sm.add_constant(X_train)\n",
    "regr = sm.OLS(y_train, X_train).fit()\n",
    "params = regr.params\n",
    "regr.summary()\n",
    "\n",
    "# regression: predict whether student is male or female\n",
    "features = data[['studytime', 'Walc', 'freetime', 'Mjob', 'schoolsup', 'health']]\n",
    "X = features\n",
    "y = data['sex']\n",
    "X_train, X_test, y_train, y_test = train_test_split(X, y, test_size=0.2, random_state=42)\n",
    "X_train = sm.add_constant(X_train)\n",
    "regr = sm.OLS(y_train, X_train).fit()\n",
    "params = regr.params\n",
    "regr.summary()\n",
    "\n",
    "# SVM classifier: predict combined education from features\n",
    "data['combined_pedu'] = round((data['Medu'] + data['Fedu']) / 2)\n",
    "features = data[['studytime', 'Walc', 'freetime', 'Mjob', 'schoolsup', 'health']]\n",
    "X = features\n",
    "y = data['combined_pedu']\n",
    "X_train, X_test, y_train, y_test = train_test_split(X, y, test_size=0.2, random_state=42)\n",
    "clf = SVC().fit(X_train, y_train)\n",
    "pred = clf.predict(X_test)\n",
    "metrics.accuracy_score(y_test, pred)\n",
    "metrics.classification_report(y_test, pred)\n",
    "# metrics.f1_score(y_test, pred)\n",
    "\n",
    "# same as above, but this time, use intersectional fairness\n",
    "data['combined_pedu'] = data['Medu'] + data['Fedu']\n",
    "features = data[['studytime', 'Walc', 'freetime', 'Mjob', 'schoolsup', 'health']]\n",
    "X = features\n",
    "y = data['combined_pedu']\n",
    "X_train, X_test, y_train, y_test = train_test_split(X, y, test_size=0.2, random_state=42)\n",
    "clf = SVC().fit(X_train, y_train)\n",
    "pred = clf.predict(X_test)\n",
    "metrics.accuracy_score(y_test, pred)\n",
    "print(metrics.classification_report(y_test, pred))\n",
    "metrics.f1_score(y_test, pred)"
   ],
   "outputs": [],
   "metadata": {}
  }
 ],
 "metadata": {
  "kernelspec": {
   "name": "python3",
   "display_name": "Python 3.11.3 64-bit ('mkl_env': conda)"
  },
  "language_info": {
   "codemirror_mode": {
    "name": "ipython",
    "version": 3
   },
   "file_extension": ".py",
   "mimetype": "text/x-python",
   "name": "python",
   "nbconvert_exporter": "python",
   "pygments_lexer": "ipython3",
   "version": "3.11.3"
  },
  "interpreter": {
   "hash": "b772ce5a3d9e15bac41ba93cca2506dccea15fc309da8b3ac56feea03ea9ce38"
  }
 },
 "nbformat": 4,
 "nbformat_minor": 2
}